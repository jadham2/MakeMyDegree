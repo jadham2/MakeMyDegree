{
 "cells": [
  {
   "cell_type": "code",
   "execution_count": 92,
   "metadata": {},
   "outputs": [],
   "source": [
    "import json\n",
    "import re"
   ]
  },
  {
   "cell_type": "code",
   "execution_count": 99,
   "metadata": {},
   "outputs": [
    {
     "name": "stdout",
     "output_type": "stream",
     "text": [
      "134\n",
      "126\n"
     ]
    }
   ],
   "source": [
    "with open(\"raw.txt\", \"r\") as f:\n",
    "  content = f.read().splitlines()\n",
    "# print(content[10:20])\n",
    "idx = [i for i in range(len(content)) if \"prerequisite\" in content[i].lower()]\n",
    "\n",
    "raw_result = []\n",
    "for i,j in zip(idx[:-1], idx[1:]):\n",
    "  if \"ece\" in content[i-1].lower():\n",
    "    raw_result.append((content[i-1], ''.join(content[i+1:j-1])))\n",
    "print(len(raw_result))\n",
    "\n",
    "result = {}\n",
    "with open(\"ece_temp.json\", \"w\") as f:\n",
    "  for x in raw_result:\n",
    "    if (x[1] != ''):\n",
    "      result[x[0][:9]] = x[1]\n",
    "  json.dump(result, f)\n",
    "print(len(result))"
   ]
  },
  {
   "cell_type": "markdown",
   "metadata": {},
   "source": [
    "make into correct json format:\n",
    "\n",
    "```py\n",
    "test_requisite_data = {\n",
    "  'course_id': self.compe_course2.course_id,\n",
    "  'course_requisite': self.compe_course1.course_id,\n",
    "  'requisite_type': 'Pre'\n",
    "}\n",
    "```"
   ]
  },
  {
   "cell_type": "code",
   "execution_count": 100,
   "metadata": {},
   "outputs": [],
   "source": [
    "ece_pattern = re.compile(r\"[A-Z]+\\s\\d\\d\\d\\d\\d\")\n",
    "for x in result:\n",
    "  result[x] = {y:\"Pre\" for y in ece_pattern.findall(result[x])}\n",
    "\n",
    "with open(\"ece_temp.json\", \"w\") as f:\n",
    "  json.dump(result, f)"
   ]
  },
  {
   "cell_type": "code",
   "execution_count": 86,
   "metadata": {},
   "outputs": [
    {
     "name": "stdout",
     "output_type": "stream",
     "text": [
      "126\n"
     ]
    }
   ],
   "source": [
    "con = \"[may be taken concurrently]\"\n",
    "split_result = dict()\n",
    "group_pattern = re.compile(r\"(.*)\\((.+)\\)(.*)\")\n",
    "for x in result:\n",
    "  found = group_pattern.search(result[x])\n",
    "  if found:\n",
    "    found.group\n",
    "  else:\n",
    "    split_result[x] = [y.split(\"or\") for y in result[x].split(\"and\")]\n",
    "with open(\"ece_temp.json\", \"w\") as f:\n",
    "  json.dump(split_result, f)\n",
    "print(len(split_result))"
   ]
  },
  {
   "cell_type": "code",
   "execution_count": 83,
   "metadata": {},
   "outputs": [],
   "source": [
    "count = 0\n",
    "ece_pattern = re.compile(r\"[A-Z]+\\s\\d\\d\\d\\d\\d\")\n",
    "for x in split_result:\n",
    "  for y in split_result[x]:\n",
    "    for z in range(len(y)):\n",
    "      found = ece_pattern.search(y[z])\n",
    "      if found:\n",
    "        y[z] = found.group(0)\n",
    "      else:\n",
    "        y[z] = ''\n",
    "\n",
    "with open(\"ece_temp.json\", \"w\") as f:\n",
    "  json.dump(split_result, f)"
   ]
  },
  {
   "cell_type": "markdown",
   "metadata": {},
   "source": [
    "### Hardcoded"
   ]
  },
  {
   "cell_type": "code",
   "execution_count": 105,
   "metadata": {},
   "outputs": [],
   "source": [
    "with open(\"ece.json\", \"r\") as f:\n",
    "  ece_reqs = json.load(f)"
   ]
  },
  {
   "cell_type": "code",
   "execution_count": 106,
   "metadata": {},
   "outputs": [
    {
     "data": {
      "text/plain": [
       "{'ECE 19000': {'MA 16600': 'Co'},\n",
       " 'ECE 20001': {'ECE 13100': 'Pre',\n",
       "  'PHYS 17200': 'Pre',\n",
       "  'MA 16600': 'Pre',\n",
       "  'MA 26100': 'Co'},\n",
       " 'ECE 20002': {'ECE 20001': 'Pre', 'MA 26600': 'Co'},\n",
       " 'ECE 20007': {'ECE 20001': 'Co'},\n",
       " 'ECE 20008': {'ECE 20007': 'Pre', 'ECE 20002': 'Co'},\n",
       " 'ECE 20100': {'ECE 13100': 'Pre',\n",
       "  'PHYS 17200': 'Pre',\n",
       "  'MA 16600': 'Pre',\n",
       "  'MA 26100': 'Co'},\n",
       " 'ECE 20200': {'ECE 20100': 'Pre', 'MA 26600': 'Co'},\n",
       " 'ECE 20700': {'ECE 20100': 'Co'},\n",
       " 'ECE 20800': {'ECE 20700': 'Pre', 'ECE 25500': 'Co'},\n",
       " 'ECE 20875': {'CS 15900': 'Pre'},\n",
       " 'ECE 25500': {'ECE 20100': 'Pre', 'MA 26100': 'Co'},\n",
       " 'ECE 26400': {'CS 15900': 'Pre'},\n",
       " 'ECE 27000': {'ECE 20001': 'Co'},\n",
       " 'ECE 30010': {'MA 26100': 'Pre'},\n",
       " 'ECE 30100': {'ECE 20002': 'Pre', 'MA 26600': 'Pre'},\n",
       " 'ECE 30200': {'ECE 30100': 'Co', 'MA 26600': 'Pre'},\n",
       " 'ECE 30411': {'ECE 20001': 'Pre', 'MA 26600': 'Pre', 'PHYS 27200': 'Pre'},\n",
       " 'ECE 30412': {'ECE 30411': 'Pre'},\n",
       " 'ECE 30414': {'ECE 30411': 'Pre', 'ECE 30100': 'Pre'},\n",
       " 'ECE 30415': {'ECE 30100': 'Pre',\n",
       "  'ECE 20008': 'Pre',\n",
       "  'ECE 30414': 'Co',\n",
       "  'ECE 30411': 'Pre'},\n",
       " 'ECE 30416': {'ECE 30100': 'Pre',\n",
       "  'ECE 30411': 'Pre',\n",
       "  'MA 26500': 'Pre',\n",
       "  'MA 26600': 'Pre'},\n",
       " 'ECE 30417': {'ECE 20008': 'Pre',\n",
       "  'ECE 30100': 'Pre',\n",
       "  'ECE 30411': 'Pre',\n",
       "  'ECE 30416': 'Co'},\n",
       " 'ECE 30500': {'ECE 20002': 'Pre', 'PHYS 27200': 'Pre', 'MA 26600': 'Pre'},\n",
       " 'ECE 30600': {'ECE 20008': 'Pre', 'ECE 30100': 'Co', 'ECE 30200': 'Co'},\n",
       " 'ECE 30653': {'MA 26100': 'Pre',\n",
       "  'MA 26600': 'Pre',\n",
       "  'PHYS 27200': 'Pre',\n",
       "  'CHM 11500': 'Pre'},\n",
       " 'ECE 30700': {'ECE 20800': 'Pre',\n",
       "  'ECE 20008': 'Pre',\n",
       "  'ECE 31100': 'Pre',\n",
       "  'ECE 30411': 'Pre'},\n",
       " 'ECE 30800': {'ECE 20008': 'Pre', 'ECE 38200': 'Co'},\n",
       " 'ECE 30834': {'ECE 36800': 'Pre'},\n",
       " 'ECE 30862': {'ECE 26400': 'Pre'},\n",
       " 'ECE 31032': {'ECE 20001': 'Pre',\n",
       "  'PHYS 27200': 'Pre',\n",
       "  'MA 26100': 'Pre',\n",
       "  'MA 26500': 'Pre',\n",
       "  'MA 26600': 'Pre'},\n",
       " 'ECE 31100': {'ECE 20001': 'Pre', 'PHYS 27200': 'Pre', 'MA 26600': 'Pre'},\n",
       " 'ECE 32100': {'ECE 20002': 'Pre', 'PHYS 27200': 'Pre'},\n",
       " 'ECE 32300': {'ECE 32100': 'Co', 'ECE 20008': 'Pre'},\n",
       " 'ECE 33700': {'ECE 27000': 'Pre'},\n",
       " 'ECE 36200': {'ECE 27000': 'Pre'},\n",
       " 'ECE 36400': {'ECE 26400': 'Pre'},\n",
       " 'ECE 36800': {'ECE 26400': 'Pre'},\n",
       " 'ECE 36900': {'ECE 27000': 'Pre'},\n",
       " 'ECE 38200': {'ECE 30100': 'Pre'},\n",
       " 'ECE 38299': {'ECE 38199': 'Pre'},\n",
       " 'ECE 38399': {'ECE 38299': 'Pre'},\n",
       " 'ECE 39401': {'ECE 29401': 'Pre'},\n",
       " 'ECE 39499': {'ECE 39399': 'Pre'},\n",
       " 'ECE 39599': {'ECE 39499': 'Pre'},\n",
       " 'ECE 39600': {'ECE 20007': 'Pre', 'ECE 20008': 'Pre', 'ECE 27000': 'Pre'},\n",
       " 'ECE 40020': {'ECE 20002': 'Pre', 'ECE 30100': 'Pre'},\n",
       " 'ECE 40400': {'ECE 36800': 'Pre'},\n",
       " 'ECE 40862': {'ECE 36200': 'Pre', 'CS 15900': 'Pre'},\n",
       " 'ECE 41200': {'ECE 30411': 'Pre', 'ECE 30100': 'Co'},\n",
       " 'ECE 41300': {'ECE 30100': 'Pre',\n",
       "  'ECE 20008': 'Pre',\n",
       "  'ECE 30411': 'Pre',\n",
       "  'ECE 41200': 'Co'},\n",
       " 'ECE 41400': {'ECE 30100': 'Pre', 'ECE 30411': 'Pre'},\n",
       " 'ECE 41437': {'ECE 33700': 'Pre'},\n",
       " 'ECE 41438': {'ECE 41437': 'Pre'},\n",
       " 'ECE 41500': {'ECE 20008': 'Pre',\n",
       "  'ECE 30411': 'Pre',\n",
       "  'ECE 30100': 'Pre',\n",
       "  'ECE 41400': 'Co'},\n",
       " 'ECE 42300': {'ECE 20002': 'Pre', 'ECE 32100': 'Pre', 'ECE 38200': 'Co'},\n",
       " 'ECE 43200': {'ECE 32100': 'Pre'},\n",
       " 'ECE 43300': {'ECE 20002': 'Pre'},\n",
       " 'ECE 43500': {'ECE 30862': 'Pre'},\n",
       " 'ECE 43700': {'ECE 33700': 'Pre', 'ECE 36200': 'Pre'},\n",
       " 'ECE 43800': {'ECE 30100': 'Pre', 'ECE 20008': 'Pre', 'ECE 30200': 'Pre'},\n",
       " 'ECE 44000': {'ECE 30100': 'Pre', 'ECE 20008': 'Pre', 'ECE 30200': 'Pre'},\n",
       " 'ECE 44100': {'ECE 30411': 'Pre'},\n",
       " 'ECE 45300': {'MA 26600': 'Pre', 'MA 26500': 'Pre'},\n",
       " 'ECE 45500': {'ECE 20002': 'Pre', 'ECE 30500': 'Co'},\n",
       " 'ECE 45600': {'ECE 20002': 'Pre', 'ECE 27000': 'Pre', 'ECE 30500': 'Pre'},\n",
       " 'ECE 45700': {'ECE 45500': 'Co', 'ECE 20008': 'Pre'},\n",
       " 'ECE 46100': {'ECE 30862': 'Pre'},\n",
       " 'ECE 46300': {'ECE 36800': 'Pre'},\n",
       " 'ECE 46800': {'ECE 36200': 'Pre', 'ECE 36800': 'Pre'},\n",
       " 'ECE 46900': {'ECE 36800': 'Pre'},\n",
       " 'ECE 47300': {'ECE 36800': 'Pre'},\n",
       " 'ECE 47700': {'ECE 27000': 'Pre',\n",
       "  'ECE 30100': 'Pre',\n",
       "  'ECE 30200': 'Pre',\n",
       "  'ECE 36200': 'Pre',\n",
       "  'ECE 20001': 'Pre',\n",
       "  'ECE 20002': 'Pre',\n",
       "  'ECE 20007': 'Pre',\n",
       "  'ECE 20008': 'Pre',\n",
       "  'ECE 20875': 'Pre',\n",
       "  'ECE 26400': 'Pre',\n",
       "  'ECE 36800': 'Pre'},\n",
       " 'ECE 48300': {'ECE 38200': 'Pre'},\n",
       " 'ECE 49022': {'ECE 27000': 'Pre',\n",
       "  'ECE 30100': 'Pre',\n",
       "  'ECE 30200': 'Pre',\n",
       "  'ECE 36200': 'Pre',\n",
       "  'ECE 20001': 'Pre',\n",
       "  'ECE 20002': 'Pre',\n",
       "  'ECE 20007': 'Pre',\n",
       "  'ECE 20008': 'Pre',\n",
       "  'ECE 20875': 'Pre',\n",
       "  'ECE 26400': 'Pre',\n",
       "  'ECE 36800': 'Pre'},\n",
       " 'ECE 49401': {'ECE 39401': 'Pre'},\n",
       " 'ECE 49600': {'ECE 20007': 'Pre', 'ECE 20008': 'Pre', 'ECE 27000': 'Pre'},\n",
       " 'ECE 50024': {'ECE 20875': 'Pre', 'ECE 30200': 'Pre'},\n",
       " 'ECE 50616': {'ECE 30500': 'Pre'},\n",
       " 'ECE 50653': {'MA 26500': 'Pre', 'MA 26600': 'Pre'},\n",
       " 'ECE 50900': {'ECE 42600': 'Pre'},\n",
       " 'ECE 51000': {'ECE 30100': 'Pre', 'ECE 30200': 'Pre'},\n",
       " 'ECE 51012': {'ECE 20200': 'Pre', 'PHYS 27200': 'Pre'},\n",
       " 'ECE 51018': {'ECE 32100': 'Pre', 'ECE 43300': 'Pre'},\n",
       " 'ECE 51032': {'ECE 43200': 'Pre', 'ECE 31032': 'Pre'},\n",
       " 'ECE 51200': {'ECE 20200': 'Pre'},\n",
       " 'ECE 51220': {'ECE 36800': 'Pre'},\n",
       " 'ECE 51300': {'ECE 30100': 'Pre', 'ECE 31100': 'Pre'},\n",
       " 'ECE 51600': {'ECE 31200': 'Pre'},\n",
       " 'ECE 52800': {'ECE 30100': 'Pre', 'ECE 30200': 'Pre'},\n",
       " 'ECE 52900': {'ECE 31100': 'Pre'},\n",
       " 'ECE 53000': {'ECE 30200': 'Pre', 'ECE 31100': 'Pre'},\n",
       " 'ECE 53100': {'ECE 31100': 'Pre'},\n",
       " 'ECE 53800': {'ECE 30100': 'Pre', 'ECE 30200': 'Pre'},\n",
       " 'ECE 54400': {'ECE 44000': 'Pre'},\n",
       " 'ECE 54700': {'ECE 30200': 'Pre'},\n",
       " 'ECE 54900': {'ECE 42800': 'Pre', 'ECE 43600': 'Pre'},\n",
       " 'ECE 55200': {'ECE 31100': 'Pre'},\n",
       " 'ECE 55400': {'ECE 25500': 'Pre', 'ECE 30100': 'Pre'},\n",
       " 'ECE 55700': {'ECE 30500': 'Pre'},\n",
       " 'ECE 55900': {'ECE 30500': 'Pre', 'ECE 43700': 'Pre'},\n",
       " 'ECE 56300': {'ECE 56500': 'Pre'},\n",
       " 'ECE 56500': {'ECE 43700': 'Pre'},\n",
       " 'ECE 56700': {'ECE 30100': 'Pre', 'ECE 35800': 'Pre'},\n",
       " 'ECE 56800': {'ECE 43700': 'Pre'},\n",
       " 'ECE 56900': {'ECE 38200': 'Pre', 'ECE 48300': 'Pre'},\n",
       " 'ECE 57000': {'ECE 30200': 'Pre', 'ECE 36800': 'Pre'},\n",
       " 'ECE 57400': {'ECE 46100': 'Pre'},\n",
       " 'ECE 57700': {'ECE 30100': 'Pre', 'ECE 30200': 'Pre'},\n",
       " 'ECE 58100': {'ECE 25500': 'Pre', 'ECE 31100': 'Pre'},\n",
       " 'ECE 58400': {'ECE 33300': 'Pre'}}"
      ]
     },
     "execution_count": 106,
     "metadata": {},
     "output_type": "execute_result"
    }
   ],
   "source": [
    "ece_reqs"
   ]
  },
  {
   "cell_type": "code",
   "execution_count": null,
   "metadata": {},
   "outputs": [],
   "source": []
  }
 ],
 "metadata": {
  "interpreter": {
   "hash": "c0fce283b8460fe78cbd18fffd86d002647773436c958661e3cb3c33656b461b"
  },
  "kernelspec": {
   "display_name": "Python 3.10.0 64-bit",
   "language": "python",
   "name": "python3"
  },
  "language_info": {
   "codemirror_mode": {
    "name": "ipython",
    "version": 3
   },
   "file_extension": ".py",
   "mimetype": "text/x-python",
   "name": "python",
   "nbconvert_exporter": "python",
   "pygments_lexer": "ipython3",
   "version": "3.10.0"
  },
  "orig_nbformat": 4
 },
 "nbformat": 4,
 "nbformat_minor": 2
}
